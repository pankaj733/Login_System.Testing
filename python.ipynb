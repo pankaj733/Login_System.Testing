{
 "cells": [
  {
   "cell_type": "code",
   "execution_count": null,
   "id": "6cf8c66d",
   "metadata": {},
   "outputs": [],
   "source": [
    "from selenium import webdriver\n",
    "from selenium.webdriver.common.by import By\n",
    "from selenium.common.exceptions import NoSuchElementException\n",
    "import time\n",
    "import os\n",
    "\n",
    "# Setup\n",
    "driver = webdriver.Chrome()\n",
    "driver.maximize_window()\n",
    "\n",
    "try:\n",
    "    driver.get(\"https://example.com/login\")  # Replace with actual URL\n",
    "    driver.find_element(By.ID, \"username\").send_keys(\"testuser\")\n",
    "    driver.find_element(By.ID, \"password\").send_keys(\"testpass\")\n",
    "    driver.find_element(By.ID, \"loginBtn\").click()\n",
    "    \n",
    "    # Assertion or check\n",
    "    assert \"Dashboard\" in driver.title  # Replace with actual check\n",
    "    print(\"Login test passed.\")\n",
    "\n",
    "except Exception as e:\n",
    "    print(\"Login test failed:\", e)\n",
    "    if not os.path.exists(\"screenshots\"):\n",
    "        os.makedirs(\"screenshots\")\n",
    "    driver.save_screenshot(\"screenshots/login_failure.png\")\n",
    "\n",
    "finally:\n",
    "    driver.quit()\n"
   ]
  }
 ],
 "metadata": {
  "language_info": {
   "name": "python"
  }
 },
 "nbformat": 4,
 "nbformat_minor": 5
}
